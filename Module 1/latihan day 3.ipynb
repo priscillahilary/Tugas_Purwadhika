{
 "cells": [
  {
   "cell_type": "code",
   "execution_count": 6,
   "metadata": {},
   "outputs": [
    {
     "name": "stdout",
     "output_type": "stream",
     "text": [
      "Appeared 3 times\n"
     ]
    }
   ],
   "source": [
    "#1\n",
    "\n",
    "spam = 'ababaababbbbcccbabcc'\n",
    "word = 'bab'\n",
    "value = 0\n",
    "\n",
    "for i in range (len (spam)):\n",
    "    if spam [i : (i+3)] == word:\n",
    "        value += 1\n",
    "\n",
    "print (f'Appeared {value} times')"
   ]
  },
  {
   "cell_type": "code",
   "execution_count": 7,
   "metadata": {},
   "outputs": [
    {
     "data": {
      "text/plain": [
       "False"
      ]
     },
     "execution_count": 7,
     "metadata": {},
     "output_type": "execute_result"
    }
   ],
   "source": [
    "#2\n",
    "\n",
    "spam = 'oOxxX'\n",
    "counto = 0\n",
    "countx = 0\n",
    "\n",
    "for i in range (len (spam)):\n",
    "    if spam [i]=='o':\n",
    "        counto +=1\n",
    "    elif spam [i]=='x':\n",
    "        countx +=1\n",
    "\n",
    "counto==countx"
   ]
  },
  {
   "cell_type": "code",
   "execution_count": 8,
   "metadata": {},
   "outputs": [
    {
     "name": "stdout",
     "output_type": "stream",
     "text": [
      "153 is narcissistic number\n"
     ]
    }
   ],
   "source": [
    "#3\n",
    "\n",
    "spam = input ('Enter the number:')\n",
    "num = len (spam)\n",
    "value = 0\n",
    "\n",
    "for i in spam:\n",
    "    value += int (i)**num\n",
    "\n",
    "if value == int(spam):\n",
    "    print ('153 is narcissistic number')\n",
    "\n",
    "else: \n",
    "    print ('Not narcissistic number')\n"
   ]
  },
  {
   "cell_type": "code",
   "execution_count": 2,
   "metadata": {},
   "outputs": [
    {
     "name": "stdout",
     "output_type": "stream",
     "text": [
      "1 2 Fizz 4 Buzz Fizz 7 8 Fizz Buzz 11 Fizz 13 14 FizzBuzz 16 17 Fizz 19 Buzz Fizz 22 23 Fizz Buzz 26 Fizz 28 29 FizzBuzz 31 32 Fizz 34 Buzz "
     ]
    }
   ],
   "source": [
    "#4\n",
    "\n",
    "num = input ('Enter a number:')\n",
    "\n",
    "for i in range (1, int(num)+1):\n",
    "    if i%3 == 0 and i%5 == 0:\n",
    "        print ('FizzBuzz', end= ' ')\n",
    "    elif i%3 == 0:\n",
    "        print ('Fizz', end = ' ')\n",
    "    elif i%5 == 0:\n",
    "        print ('Buzz', end = ' ')\n",
    "    else:\n",
    "        print (i, end = ' ')\n"
   ]
  },
  {
   "cell_type": "code",
   "execution_count": null,
   "metadata": {},
   "outputs": [
    {
     "name": "stdout",
     "output_type": "stream",
     "text": [
      "The Fox and dog.\n"
     ]
    }
   ],
   "source": [
    "#5\n",
    "\n",
    "text = 'The Fox and fox.'\n",
    "oldText = 'fox' \n",
    "newText = 'dog'\n",
    "\n",
    "new_text = text.replace (oldText,newText)\n",
    "\n",
    "while True:\n",
    "    if oldText in text:\n",
    "        print (new_text)\n",
    "    break \n"
   ]
  },
  {
   "cell_type": "code",
   "execution_count": 16,
   "metadata": {},
   "outputs": [
    {
     "name": "stdout",
     "output_type": "stream",
     "text": [
      "26 13 40 20 10 5 16 8 4 2 1 "
     ]
    }
   ],
   "source": [
    "#6\n",
    "\n",
    "n = int (input('Enter the number'))\n",
    "print (n, end = (' '))\n",
    "\n",
    "while n != 1:\n",
    "    if n % 2 == 0:\n",
    "        n = int (n/2)\n",
    "    else: \n",
    "        n = int (n * 3 + 1)\n",
    "    print (n, end = (' '))\n",
    "\n"
   ]
  },
  {
   "cell_type": "code",
   "execution_count": 23,
   "metadata": {},
   "outputs": [
    {
     "name": "stdout",
     "output_type": "stream",
     "text": [
      "0 1 1 2 3 5 8 13 21 34 "
     ]
    }
   ],
   "source": [
    "#7\n",
    "\n",
    "num = int (input('Enter the number'))\n",
    "n1, n2 = 0, 1\n",
    "sum = 0\n",
    "\n",
    "for i in range (0, num):\n",
    "    print (sum, end= (' '))\n",
    "    n1 = n2\n",
    "    n2 = sum\n",
    "    sum = n1 + n2 \n",
    "    "
   ]
  },
  {
   "cell_type": "code",
   "execution_count": 2,
   "metadata": {},
   "outputs": [
    {
     "name": "stdout",
     "output_type": "stream",
     "text": [
      "Key #0:  QIIX QI FC XLI VSWI FYWLIW XSRMKLX\n",
      "Key #1:  PHHW PH EB WKH URVH EXVKHV WRQLJKW\n",
      "Key #2:  OGGV OG DA VJG TQUG DWUJGU VQPKIJV\n",
      "Key #3:  NFFU NF CZ UIF SPTF CVTIFT UPOJHIU\n",
      "Key #4:  MEET ME BY THE ROSE BUSHES TONIGHT\n",
      "Key #5:  LDDS LD AX SGD QNRD ATRGDR SNMHFGS\n",
      "Key #6:  KCCR KC ZW RFC PMQC ZSQFCQ RMLGEFR\n",
      "Key #7:  JBBQ JB YV QEB OLPB YRPEBP QLKFDEQ\n",
      "Key #8:  IAAP IA XU PDA NKOA XQODAO PKJECDP\n",
      "Key #9:  HZZO HZ WT OCZ MJNZ WPNCZN OJIDBCO\n",
      "Key #10:  GYYN GY VS NBY LIMY VOMBYM NIHCABN\n",
      "Key #11:  FXXM FX UR MAX KHLX UNLAXL MHGBZAM\n",
      "Key #12:  EWWL EW TQ LZW JGKW TMKZWK LGFAYZL\n",
      "Key #13:  DVVK DV SP KYV IFJV SLJYVJ KFEZXYK\n",
      "Key #14:  CUUJ CU RO JXU HEIU RKIXUI JEDYWXJ\n",
      "Key #15:  BTTI BT QN IWT GDHT QJHWTH IDCXVWI\n",
      "Key #16:  ASSH AS PM HVS FCGS PIGVSG HCBWUVH\n",
      "Key #17:  ZRRG ZR OL GUR EBFR OHFURF GBAVTUG\n",
      "Key #18:  YQQF YQ NK FTQ DAEQ NGETQE FAZUSTF\n",
      "Key #19:  XPPE XP MJ ESP CZDP MFDSPD EZYTRSE\n",
      "Key #20:  WOOD WO LI DRO BYCO LECROC DYXSQRD\n",
      "Key #21:  VNNC VN KH CQN AXBN KDBQNB CXWRPQC\n",
      "Key #22:  UMMB UM JG BPM ZWAM JCAPMA BWVQOPB\n",
      "Key #23:  TLLA TL IF AOL YVZL IBZOLZ AVUPNOA\n",
      "Key #24:  SKKZ SK HE ZNK XUYK HAYNKY ZUTOMNZ\n",
      "Key #25:  RJJY RJ GD YMJ WTXJ GZXMJX YTSNLMY\n"
     ]
    }
   ],
   "source": [
    "#8 \n",
    "\n",
    "message = 'QIIX QI FC XLI VSWI FYWLIW XSRMKLX' #encrypted message\n",
    "abjad= 'ABCDEFGHIJKLMNOPQRSTUVWXYZ'\n",
    "\n",
    "for i in range(len(abjad)):\n",
    "   translated = ' '\n",
    "\n",
    "   for symbol in message:\n",
    "      if symbol in abjad:\n",
    "         num = abjad.find(symbol)\n",
    "         num = num - i\n",
    "\n",
    "         if num < 0:\n",
    "            num = num + len(abjad)\n",
    "         translated = translated + abjad[num]\n",
    "      else:\n",
    "         translated = translated + symbol\n",
    "   print(f'Key #{i}: {translated}')"
   ]
  },
  {
   "cell_type": "code",
   "execution_count": null,
   "metadata": {},
   "outputs": [],
   "source": []
  }
 ],
 "metadata": {
  "kernelspec": {
   "display_name": "Python 3",
   "language": "python",
   "name": "python3"
  },
  "language_info": {
   "codemirror_mode": {
    "name": "ipython",
    "version": 3
   },
   "file_extension": ".py",
   "mimetype": "text/x-python",
   "name": "python",
   "nbconvert_exporter": "python",
   "pygments_lexer": "ipython3",
   "version": "3.12.1"
  }
 },
 "nbformat": 4,
 "nbformat_minor": 2
}
