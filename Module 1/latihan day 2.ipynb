{
 "cells": [
  {
   "cell_type": "code",
   "execution_count": 2,
   "metadata": {},
   "outputs": [
    {
     "data": {
      "text/plain": [
       "9"
      ]
     },
     "execution_count": 2,
     "metadata": {},
     "output_type": "execute_result"
    }
   ],
   "source": [
    "#1\n",
    "\n",
    "name = input ('Enter your name')\n",
    "split_name = name.split ()\n",
    "first_name =split_name [0]\n",
    "\n",
    "len (first_name)"
   ]
  },
  {
   "cell_type": "code",
   "execution_count": null,
   "metadata": {},
   "outputs": [
    {
     "name": "stdout",
     "output_type": "stream",
     "text": [
      "uppercase: RSILHLRKSMNNRM\n"
     ]
    }
   ],
   "source": [
    "#2\n",
    "\n",
    "name = input ('Enter your name')\n",
    "tanpa_spasi = name.replace (\" \", \"\")\n",
    "uppercase = tanpa_spasi.upper()\n",
    "\n",
    "print (f'uppercase: {uppercase[1::2]}')"
   ]
  },
  {
   "cell_type": "code",
   "execution_count": null,
   "metadata": {},
   "outputs": [
    {
     "name": "stdout",
     "output_type": "stream",
     "text": [
      "total: 22, number: 7654\n"
     ]
    }
   ],
   "source": [
    "#3\n",
    "\n",
    "number = input ('Enter the four digit number')\n",
    "total = int(number[0]) + int (number [1]) + int (number [2]) + int (number[3])\n",
    "\n",
    "print (f\"total: {total}, number: {number [3::-1]}\")\n",
    "\n",
    "\n"
   ]
  },
  {
   "cell_type": "code",
   "execution_count": null,
   "metadata": {},
   "outputs": [],
   "source": [
    "import math "
   ]
  },
  {
   "cell_type": "code",
   "execution_count": null,
   "metadata": {},
   "outputs": [
    {
     "name": "stdout",
     "output_type": "stream",
     "text": [
      "distance: 2.236, slope: 2.0\n"
     ]
    }
   ],
   "source": [
    "#4\n",
    "\n",
    "x1 = 2\n",
    "y1 = 5\n",
    "x2 = 3\n",
    "y2 = 7\n",
    "rumus = (x1-x2)**2 + (y1-y2)**2\n",
    "distance = round(math.sqrt(rumus),3)\n",
    "\n",
    "slope = (y2-y1)/(x2-x1)\n",
    "print (f\"distance: {distance}, slope: {slope}\")\n"
   ]
  },
  {
   "cell_type": "code",
   "execution_count": null,
   "metadata": {},
   "outputs": [
    {
     "name": "stdout",
     "output_type": "stream",
     "text": [
      "output: ('purwa', 'dhika') ,dhiwa purka\n"
     ]
    }
   ],
   "source": [
    "#5\n",
    "\n",
    "text1, text2 = input ('Enter the text').split(',')\n",
    "text1, text2 = text1.strip(), text2.strip()\n",
    "output= f'{text2[:3]}{text1[3:]} {text1[:3]}{text2[3:]}'\n",
    "print (f\"output: {text1, text2} ,{output}\")"
   ]
  },
  {
   "cell_type": "code",
   "execution_count": null,
   "metadata": {},
   "outputs": [
    {
     "name": "stdout",
     "output_type": "stream",
     "text": [
      "output:jPKdaA\n"
     ]
    }
   ],
   "source": [
    "#6\n",
    "\n",
    "name1 = input ('Enter the name')\n",
    "name2 = input ('Enter the name')\n",
    "\n",
    "mid= len(name1)//2\n",
    "output= f'{name1[0]}{name2[0]}{name1[mid]}{name2[mid]}{name1[-1]}{name2[9]}'\n",
    "\n",
    "print (f'output:{output}')"
   ]
  },
  {
   "cell_type": "code",
   "execution_count": null,
   "metadata": {},
   "outputs": [
    {
     "name": "stdout",
     "output_type": "stream",
     "text": [
      "output:JC0310DS\n"
     ]
    }
   ],
   "source": [
    "#7\n",
    "\n",
    "name1 = input ('Enter the name')\n",
    "name2 = input ('Enter the name')\n",
    "\n",
    "mid= len(name1)//2\n",
    "output= f'{name1[:mid]}{name2}{name1[mid:]}'\n",
    "\n",
    "print (f'output:{output}')"
   ]
  }
 ],
 "metadata": {
  "kernelspec": {
   "display_name": "Python 3",
   "language": "python",
   "name": "python3"
  },
  "language_info": {
   "codemirror_mode": {
    "name": "ipython",
    "version": 3
   },
   "file_extension": ".py",
   "mimetype": "text/x-python",
   "name": "python",
   "nbconvert_exporter": "python",
   "pygments_lexer": "ipython3",
   "version": "3.12.1"
  }
 },
 "nbformat": 4,
 "nbformat_minor": 2
}
